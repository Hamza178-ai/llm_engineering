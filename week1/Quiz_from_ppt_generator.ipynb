{
 "cells": [
  {
   "cell_type": "code",
   "execution_count": 12,
   "id": "a265cdbf-a303-4e9e-a073-8d8461303024",
   "metadata": {},
   "outputs": [],
   "source": [
    "#!pip install python-pptx"
   ]
  },
  {
   "cell_type": "code",
   "execution_count": 13,
   "id": "bf30e54d-d561-4b31-94e9-4b5af1872050",
   "metadata": {},
   "outputs": [],
   "source": [
    "import os\n",
    "import requests\n",
    "from dotenv import load_dotenv\n",
    "from bs4 import BeautifulSoup\n",
    "from IPython.display import Markdown, display\n",
    "from openai import OpenAI"
   ]
  },
  {
   "cell_type": "code",
   "execution_count": 14,
   "id": "38561175-0efc-48f2-824c-b9ed3ecef5be",
   "metadata": {},
   "outputs": [
    {
     "name": "stdout",
     "output_type": "stream",
     "text": [
      "API key found and looks good so far!\n"
     ]
    }
   ],
   "source": [
    "# Load environment variables in a file called .env\n",
    "\n",
    "load_dotenv(override=True)\n",
    "api_key = os.getenv('OPENAI_API_KEY')\n",
    "\n",
    "# Check the key\n",
    "\n",
    "if not api_key:\n",
    "    print(\"No API key was found - please head over to the troubleshooting notebook in this folder to identify & fix!\")\n",
    "elif not api_key.startswith(\"sk-proj-\"):\n",
    "    print(\"An API key was found, but it doesn't start sk-proj-; please check you're using the right key - see troubleshooting notebook\")\n",
    "elif api_key.strip() != api_key:\n",
    "    print(\"An API key was found, but it looks like it might have space or tab characters at the start or end - please remove them - see troubleshooting notebook\")\n",
    "else:\n",
    "    print(\"API key found and looks good so far!\")"
   ]
  },
  {
   "cell_type": "code",
   "execution_count": 15,
   "id": "4cbc70bb-46a4-42df-b94c-5c84f6beb97d",
   "metadata": {},
   "outputs": [],
   "source": [
    "# creating an instance\n",
    "openai = OpenAI()"
   ]
  },
  {
   "cell_type": "code",
   "execution_count": 16,
   "id": "123d4ace-c9a9-45ad-b77d-a74d51114be6",
   "metadata": {},
   "outputs": [],
   "source": [
    "from pptx import Presentation\n",
    "\n",
    "class PowerPoint():\n",
    "    def __init__(self,ppt):\n",
    "        \"\"\"\n",
    "        Creates a PowerPoint object, with name and text.\n",
    "        \"\"\"\n",
    "        self.ppt = ppt\n",
    "        self.title = os.path.basename(ppt)\n",
    "        self.text = self.extract_text()\n",
    "\n",
    "    def extract_text(self):\n",
    "        \"\"\"\n",
    "        Extracts text from powerpoint.\n",
    "        \"\"\"\n",
    "        prs = Presentation(self.ppt)\n",
    "        text_content = []\n",
    "    \n",
    "        for slide in prs.slides:\n",
    "            for shape in slide.shapes:\n",
    "                if hasattr(shape, \"text\"):\n",
    "                    text_content.append(shape.text)\n",
    "    \n",
    "        return \"\\n\".join(text_content)"
   ]
  },
  {
   "cell_type": "code",
   "execution_count": 17,
   "id": "c1fdf081-096d-4f2c-9131-d133f1d2517f",
   "metadata": {},
   "outputs": [],
   "source": [
    "system_prompt = \"You are an assistant to a predicyive analytics instructor that analyzes the contents \\\n",
    "of a PowerPoint lecture presentation, and generates an MCQ type quiz \\\n",
    "You are to ignore text that might be navigation-related\\\n",
    "and respond in Markdown.\""
   ]
  },
  {
   "cell_type": "code",
   "execution_count": 18,
   "id": "f8276a24-9589-4673-838e-13fb1b752f77",
   "metadata": {},
   "outputs": [],
   "source": [
    "# A function that writes a User Prompt that asks for summaries of PowerPoints:\n",
    "\n",
    "def user_prompt_for(powerpoint):\n",
    "    user_prompt = f\"You are looking at a lecture titled {powerpoint.title}\"\n",
    "    user_prompt += \"\\nThe contents of this powerpoint are as follows; \\\n",
    "Please provide 10 multiple-choice quiz questions out of it. \\n\\n\"\n",
    "    user_prompt += powerpoint.text\n",
    "    return user_prompt"
   ]
  },
  {
   "cell_type": "code",
   "execution_count": 19,
   "id": "7c638aff-1d02-4481-8387-cf448149ee0e",
   "metadata": {},
   "outputs": [],
   "source": [
    "def messages_for(powerpoint):\n",
    "    return [\n",
    "        {\"role\": \"system\", \"content\": system_prompt},\n",
    "        {\"role\": \"user\", \"content\": user_prompt_for(powerpoint)}\n",
    "    ]"
   ]
  },
  {
   "cell_type": "code",
   "execution_count": 20,
   "id": "75d9ba85-b7c0-48c0-b01a-f75dab7c7d4b",
   "metadata": {},
   "outputs": [],
   "source": [
    "# And now: call the OpenAI API. \n",
    "\n",
    "def summarize(powerpoint_path):\n",
    "    powerpoint = PowerPoint(powerpoint_path)\n",
    "    response = openai.chat.completions.create(\n",
    "        model = \"gpt-4o-mini\",\n",
    "        messages = messages_for(powerpoint)\n",
    "    )\n",
    "    return response.choices[0].message.content"
   ]
  },
  {
   "cell_type": "code",
   "execution_count": 21,
   "id": "062f8f42-efa3-49ce-8c65-d293c6fdd506",
   "metadata": {},
   "outputs": [],
   "source": [
    "def display_summary(url):\n",
    "    summary = summarize(url)\n",
    "    display(Markdown(summary))"
   ]
  },
  {
   "cell_type": "code",
   "execution_count": 22,
   "id": "11fe6fd5-5fde-4b22-92ff-c4d026badfb7",
   "metadata": {},
   "outputs": [
    {
     "data": {
      "text/markdown": [
       "Here's a quiz based on the contents of the lecture titled **BUSI 650 - Clustering**:\n",
       "\n",
       "### Quiz on Cluster Analysis\n",
       "\n",
       "1. **What is cluster analysis primarily used for in marketing?**\n",
       "   - A) Developing new technologies\n",
       "   - B) Segmenting markets into smaller groups with shared characteristics\n",
       "   - C) Analyzing financial performance\n",
       "   - D) Predicting stock prices  \n",
       "   **Answer: B**\n",
       "\n",
       "2. **Which of the following is a characteristic of cluster analysis?**\n",
       "   - A) It requires a specified dependent variable.\n",
       "   - B) It organizes data into two or more similar groups.\n",
       "   - C) It is considered a supervised learning technique.\n",
       "   - D) It cannot be used for numerical data.  \n",
       "   **Answer: B**\n",
       "\n",
       "3. **What is a common method for evaluating clusters visually?**\n",
       "   - A) Box Plot\n",
       "   - B) Line Chart\n",
       "   - C) Elbow Chart\n",
       "   - D) Histogram  \n",
       "   **Answer: C**\n",
       "\n",
       "4. **Which clustering method treats each observation as a separate cluster initially?**\n",
       "   - A) K-Means Clustering\n",
       "   - B) Agglomerative Clustering\n",
       "   - C) Divisive Clustering\n",
       "   - D) Hierarchical Clustering  \n",
       "   **Answer: B**\n",
       "\n",
       "5. **What does the silhouette score measure?**\n",
       "   - A) The total number of clusters formed\n",
       "   - B) The distance between each observation and the cluster centroid\n",
       "   - C) The overall error in the clustering process\n",
       "   - D) The mean value of all observations  \n",
       "   **Answer: B**\n",
       "\n",
       "6. **Which clustering approach combines individual observations into subgroups based on distance?**\n",
       "   - A) K-Means Clustering\n",
       "   - B) Hierarchical Clustering\n",
       "   - C) DBSCAN Clustering\n",
       "   - D) Ensemble Clustering  \n",
       "   **Answer: B**\n",
       "\n",
       "7. **What type of data is K-Means clustering applicable to?**\n",
       "   - A) Categorical data only\n",
       "   - B) Numerical data only\n",
       "   - C) Text data\n",
       "   - D) Any type of data  \n",
       "   **Answer: B**\n",
       "\n",
       "8. **In Ward's method of hierarchical clustering, clusters are combined to minimize what?**\n",
       "   - A) The total number of clusters\n",
       "   - B) The within-cluster sum of squares\n",
       "   - C) The distance between clusters\n",
       "   - D) The average distance from the centroid  \n",
       "   **Answer: B**\n",
       "\n",
       "9. **Which method measures the straight-line distance between two points in hierarchical clustering?**\n",
       "   - A) Manhattan Method\n",
       "   - B) Euclidean Method\n",
       "   - C) Jaccard’s Method\n",
       "   - D) Matching Method  \n",
       "   **Answer: B**\n",
       "\n",
       "10. **In a case study about online perfume sales, what was the main goal of using cluster analysis?**\n",
       "    - A) To determine optimal pricing strategies\n",
       "    - B) To segment the market for better customer engagement\n",
       "    - C) To analyze supply chain efficiencies\n",
       "    - D) To improve product quality  \n",
       "    **Answer: B**\n",
       "\n",
       "Feel free to use or modify these questions as needed!"
      ],
      "text/plain": [
       "<IPython.core.display.Markdown object>"
      ]
     },
     "metadata": {},
     "output_type": "display_data"
    }
   ],
   "source": [
    "ppt_file = \"BUSI 650 - clustering.pptx\" \n",
    "display_summary(ppt_file)"
   ]
  },
  {
   "cell_type": "code",
   "execution_count": null,
   "id": "98a07b9f-8bd4-4a3b-9caa-842a8472e11a",
   "metadata": {},
   "outputs": [],
   "source": []
  }
 ],
 "metadata": {
  "kernelspec": {
   "display_name": "Python 3 (ipykernel)",
   "language": "python",
   "name": "python3"
  },
  "language_info": {
   "codemirror_mode": {
    "name": "ipython",
    "version": 3
   },
   "file_extension": ".py",
   "mimetype": "text/x-python",
   "name": "python",
   "nbconvert_exporter": "python",
   "pygments_lexer": "ipython3",
   "version": "3.11.11"
  }
 },
 "nbformat": 4,
 "nbformat_minor": 5
}
